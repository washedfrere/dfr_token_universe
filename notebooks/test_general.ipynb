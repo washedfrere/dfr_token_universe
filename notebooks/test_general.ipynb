{
 "cells": [
  {
   "cell_type": "code",
   "execution_count": 13,
   "metadata": {},
   "outputs": [
    {
     "name": "stdout",
     "output_type": "stream",
     "text": [
      "{'DIGITO': '0123456789', 'VOCAL': 'aeiouáéíóúüAEIOUÁÉÍÓÚÜ', 'CONSONANTE_MIN': 'bcçdfghjklmnñpqrstvwxyz', 'CONSONANTE_MAY': 'BCÇDFGHJKLMNÑPQRSTVWXYZ', 'SEPARADOR': ' \\xa0,.;:-+/\\\\\\'\"_\\n', 'SIMBOLO': '\"\\'()[]{}<>¿?¡!|@#·~$€%&¬ªº', 'ESPECIAL': '\\t\\x08\\x07\\x0c\\r\\x0b'}\n"
     ]
    }
   ],
   "source": [
    "import sys\n",
    "sys.path.append(\"../dfrtokenuniverse\")\n",
    "from constantes import TIPO_CARACTER\n",
    "print(TIPO_CARACTER)"
   ]
  }
 ],
 "metadata": {
  "kernelspec": {
   "display_name": "venv",
   "language": "python",
   "name": "python3"
  },
  "language_info": {
   "codemirror_mode": {
    "name": "ipython",
    "version": 3
   },
   "file_extension": ".py",
   "mimetype": "text/x-python",
   "name": "python",
   "nbconvert_exporter": "python",
   "pygments_lexer": "ipython3",
   "version": "3.12.7"
  }
 },
 "nbformat": 4,
 "nbformat_minor": 2
}
